{
 "cells": [
  {
   "cell_type": "markdown",
   "metadata": {},
   "source": [
    "This script is an easy tool to use for ELISA plate analysis and looking at various R&D aspects of ELISA protocols.\n",
    "\n"
   ]
  },
  {
   "cell_type": "code",
   "execution_count": 12,
   "metadata": {},
   "outputs": [],
   "source": [
    "from tkinter import *\n",
    "from tkinter import filedialog \n",
    "import matplotlib.pyplot as plt\n",
    "import pandas as pd\n",
    "from PIL import ImageTk, Image"
   ]
  },
  {
   "cell_type": "code",
   "execution_count": 15,
   "metadata": {},
   "outputs": [],
   "source": [
    "#define all of my functions for the window\n",
    "def callback():\n",
    "    print (\"called the callback!\")\n",
    "\n",
    "    \n",
    "def showImg(image_name, x_loc, y_loc, size):\n",
    "    load = Image.open(image_name)\n",
    "    render = ImageTk.PhotoImage(load)\n",
    "    img = Label( image = render)\n",
    "    img.image = render\n",
    "    img.place(x = x_loc, y= y_loc)\n",
    "    \n",
    "def browse():\n",
    "    filename = filedialog.askopenfilename()\n",
    "\n",
    "    \n",
    "def selected():\n",
    "    #for i in vars:\n",
    "    #    print(str(i.get()))\n",
    "    print('dahh dahh dahh making nachos dha dah dah for my friends')\n",
    "        \n",
    "        \n",
    "def browse_elisa(): \n",
    "    b = Button(root, text=\"RUN ANALYSIS\", command=selected).grid(row = 2, column = 0)\n",
    "    filename = filedialog.askopenfilename()\n",
    "    excel = pd.read_excel(filename)\n",
    "    xls = pd.ExcelFile(filename) \n",
    "    sheets = xls.sheet_names\n",
    "    vars = []\n",
    "    j=1\n",
    "    for i in sheets:\n",
    "        vars.append(\"var\"+str(j))\n",
    "        j+=1\n",
    "    my_row = 3\n",
    "    select_all = IntVar(value = 1)\n",
    "    Checkbutton(root, text = \"Select All\", variable = select_all, command = callback).grid(row=my_row, sticky=W)\n",
    "    my_row+=1\n",
    "    my_col = 3\n",
    "    tryit = []\n",
    "    for i in range(0, len(sheets)):\n",
    "        vars[i] = IntVar(value = 1)\n",
    "        Checkbutton(root, text = str(sheets[i]), variable = vars[i]).grid(row=my_row, column = my_col, sticky=W)\n",
    "        my_row+= 1\n",
    "        if my_row > 10:\n",
    "            my_col += 2\n",
    "            my_row = 4\n",
    "def dilution():\n",
    "    window = tk.Toplevel(root)\n"
   ]
  },
  {
   "cell_type": "code",
   "execution_count": 16,
   "metadata": {
    "scrolled": false
   },
   "outputs": [],
   "source": [
    "#Make my box\n",
    "root = Tk()\n",
    "root.title(\"ELISA\") #title duh\n",
    "root.geometry(\"800x800\") #size of window\n",
    "\n",
    "#create a menu\n",
    "menu = Menu(root)\n",
    "root.config(menu=menu)\n",
    "root.configure(background='SkyBlue1')# More Colors at \"https://wiki.tcl.tk/37701\"\n",
    "\n",
    "filemenu = Menu(menu)\n",
    "menu.add_cascade(label=\"File\", menu=filemenu)\n",
    "filemenu.add_command(label=\"New\", command=callback)\n",
    "filemenu.add_command(label=\"Open...\", command=browse)\n",
    "filemenu.add_separator()\n",
    "filemenu.add_command(label=\"Exit\", command=callback)\n",
    "\n",
    "helpmenu = Menu(menu)\n",
    "menu.add_cascade(label=\"Help\", menu=helpmenu)\n",
    "helpmenu.add_command(label=\"About...\", command=callback)\n",
    "\n",
    "\n",
    "elisa_menu = Menu(menu)\n",
    "menu.add_cascade(label=\"ELISA\", menu=elisa_menu)\n",
    "elisa_menu.add_command(label=\"Open...\", command=browse_elisa)\n",
    "elisa_menu.add_separator()\n",
    "elisa_menu.add_command(label=\"Exit\", command=callback)\n",
    "\n",
    "math = Menu(menu)\n",
    "menu.add_cascade(label=\"Math\", menu=math)\n",
    "math.add_command(label=\"Dilutions\", command=Toplevel(root))\n",
    "math.add_command(label=\"Cook Book\", command=callback)\n",
    "math.add_separator()\n",
    "math.add_command(label=\"Exit\", command=callback)\n",
    "\n",
    "#Add Photo\n",
    "showImg(\"Ha.png\", 0, 0, 20)\n",
    "\n",
    "\n",
    "\n",
    "root.mainloop()"
   ]
  },
  {
   "cell_type": "code",
   "execution_count": null,
   "metadata": {},
   "outputs": [],
   "source": []
  },
  {
   "cell_type": "code",
   "execution_count": null,
   "metadata": {},
   "outputs": [],
   "source": []
  },
  {
   "cell_type": "code",
   "execution_count": null,
   "metadata": {},
   "outputs": [],
   "source": []
  }
 ],
 "metadata": {
  "kernelspec": {
   "display_name": "Python 3",
   "language": "python",
   "name": "python3"
  },
  "language_info": {
   "codemirror_mode": {
    "name": "ipython",
    "version": 3
   },
   "file_extension": ".py",
   "mimetype": "text/x-python",
   "name": "python",
   "nbconvert_exporter": "python",
   "pygments_lexer": "ipython3",
   "version": "3.7.0"
  }
 },
 "nbformat": 4,
 "nbformat_minor": 2
}
